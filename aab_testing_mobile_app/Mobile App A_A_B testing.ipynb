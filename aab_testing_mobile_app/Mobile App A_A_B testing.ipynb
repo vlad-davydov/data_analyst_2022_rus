{
 "cells": [
  {
   "cell_type": "markdown",
   "id": "e5d41a0a",
   "metadata": {},
   "source": [
    "# Событийная аналитика. Анализ пользовательского поведения в мобильном приложении"
   ]
  },
  {
   "cell_type": "markdown",
   "id": "f2c8e3d3",
   "metadata": {},
   "source": [
    "Вы работаете в стартапе, который продаёт продукты питания. Нужно разобраться, как ведут себя пользователи вашего мобильного приложения. \n",
    "\n",
    "Мы получили лог событий с проведенным A/A/B-экспериментом. Необходимо его исследовать. Дизайнеры захотели поменять шрифты во всём приложении, а менеджеры испугались, что пользователям будет непривычно. Договорились принять решение по результатам A/A/B-теста. Пользователей разбили на 3 группы: 2 контрольные со старыми шрифтами и одну экспериментальную — с новыми. Необходимо выяснить, какой шрифт лучше. \n"
   ]
  },
  {
   "cell_type": "markdown",
   "id": "8baf1c97",
   "metadata": {},
   "source": [
    "## Описание данных"
   ]
  },
  {
   "cell_type": "markdown",
   "id": "fa0dd362",
   "metadata": {},
   "source": [
    "Каждая запись в логе — это действие пользователя, или событие.\n",
    "* `EventName` — название события;\n",
    "* `DeviceIDHash` — уникальный идентификатор пользователя;\n",
    "* `EventTimestamp` — время события;\n",
    "* `ExpId` — номер эксперимента: 246 и 247 — контрольные группы, а 248 — экспериментальная.\n"
   ]
  },
  {
   "cell_type": "markdown",
   "id": "345ed45b",
   "metadata": {},
   "source": [
    "## Загрузка данных и предобработка"
   ]
  },
  {
   "cell_type": "markdown",
   "id": "b7636024",
   "metadata": {},
   "source": [
    "### Подготовка к исследованию"
   ]
  },
  {
   "cell_type": "code",
   "execution_count": 1,
   "id": "d0053d30",
   "metadata": {},
   "outputs": [],
   "source": [
    "# Подключение необходимых библиотек\n",
    "import pandas as pd\n",
    "import seaborn as sns\n",
    "from datetime import datetime, timedelta\n",
    "import matplotlib.pyplot as plt\n",
    "import numpy as np\n",
    "from scipy import stats as st\n",
    "from matplotlib import cm\n",
    "from plotly import graph_objects as go\n",
    "import plotly.express as px\n",
    "import math as mth\n",
    "\n",
    "# Настройка общего вида графиков seaborn\n",
    "sns.set(rc={\"figure.dpi\":100, 'savefig.dpi':300})\n",
    "sns.set_context('notebook')\n",
    "sns.set_style(\"ticks\")\n",
    "sns.set_theme(style=\"darkgrid\")\n",
    "sns.set_color_codes(\"pastel\")\n",
    "\n",
    "# Увеличим дефолтный размер графиков\n",
    "from pylab import rcParams\n",
    "rcParams['figure.figsize'] = 10, 8"
   ]
  },
  {
   "cell_type": "code",
   "execution_count": 2,
   "id": "1ba91dfd",
   "metadata": {},
   "outputs": [],
   "source": [
    "import plotly.io as pio\n",
    "png_renderer = pio.renderers[\"png\"]\n",
    "png_renderer.width = 900\n",
    "png_renderer.height = 700\n",
    "\n",
    "pio.renderers.default = \"png\""
   ]
  },
  {
   "cell_type": "code",
   "execution_count": 3,
   "id": "3f846101",
   "metadata": {},
   "outputs": [],
   "source": [
    "#Импорт входных данных\n",
    "try:\n",
    "    df_logs = pd.read_csv('/datasets/logs_exp.csv', sep='\\t')\n",
    "    \n",
    "except FileNotFoundError:\n",
    "    df_logs = pd.read_csv('logs_exp.csv', sep='\\t')\n",
    "\n",
    "#поменяем вывод float значений\n",
    "pd.set_option('display.float_format', lambda x: '%.2f' % x)"
   ]
  },
  {
   "cell_type": "markdown",
   "id": "42ed361f",
   "metadata": {},
   "source": [
    "Напишем стандартную функцию общего обзора данных."
   ]
  },
  {
   "cell_type": "code",
   "execution_count": 4,
   "id": "b663df7c",
   "metadata": {},
   "outputs": [],
   "source": [
    "# Функция вывода красивых таблиц\n",
    "def nice_display(data, rows_num):\n",
    "    print(f\"Первые {rows_num} строк таблицы\".center(127, \"-\"))\n",
    "    display(data.head(rows_num).style.set_table_styles(\n",
    "        [{'selector': 'tr:nth-of-type(odd)',\n",
    "          'props': [('background', '#eee')]},\n",
    "         {'selector': 'tr:nth-of-type(even)',\n",
    "            'props': [('background', 'white')]},\n",
    "            {'selector': 'th',\n",
    "             'props': [('background', '#2DA679'),\n",
    "                       ('color', 'white'),\n",
    "                       ('font-family', 'verdana')]},\n",
    "            {'selector': 'td',\n",
    "             'props': [('font-family', 'verdana')]},\n",
    "         ]\n",
    "    ).hide_index())"
   ]
  },
  {
   "cell_type": "code",
   "execution_count": 5,
   "id": "87d49713",
   "metadata": {},
   "outputs": [],
   "source": [
    "# Стандартная функция общего обзора данных\n",
    "def data_view(data):\n",
    "    print(\"Общая структура данных\".center(127, \"-\") + '\\n')\n",
    "    display(data.info())\n",
    "    print(127 * '-' + '\\n')\n",
    "    print(\"Первые 10 строк таблицы\".center(127, \"-\"))\n",
    "    display(data.head(10).style.set_table_styles(\n",
    "        [{'selector': 'tr:nth-of-type(odd)',\n",
    "          'props': [('background', '#eee')]},\n",
    "         {'selector': 'tr:nth-of-type(even)',\n",
    "            'props': [('background', 'white')]},\n",
    "            {'selector': 'th',\n",
    "             'props': [('background', '#2DA679'),\n",
    "                       ('color', 'white'),\n",
    "                       ('font-family', 'verdana')]},\n",
    "            {'selector': 'td',\n",
    "             'props': [('font-family', 'verdana')]},\n",
    "         ]\n",
    "    ).hide_index())\n",
    "    print(127 * '-' + '\\n')\n",
    "    print(\"Доля пропущенных значений по столбцам в таблице\".center(127, \"-\"))\n",
    "    display(data.isna().mean().sort_values(ascending=False))\n",
    "    print(127 * '-' + '\\n')\n",
    "    print('Визуализируем пропущенные значения графиком'.center(127, \"-\"))\n",
    "    sns.heatmap(data.isna(), yticklabels=False, cbar=False, cmap=\"YlGnBu\");\n",
    "    plt.show()\n",
    "    print(127 * '-' + '\\n')\n",
    "    print(f\"Количество полных дубликатов: {data.duplicated().sum()}\\n\")\n",
    "    print(127 * '-' + '\\n')\n",
    "    print(\"Статистическая информация о числовых данных\".center(127, \"-\"))\n",
    "    display(data.describe())\n",
    "    print(127 * '-' + '\\n')"
   ]
  },
  {
   "cell_type": "code",
   "execution_count": 6,
   "id": "e9fed546",
   "metadata": {},
   "outputs": [],
   "source": [
    "# функция перевода списка строк из регистра Camel в змеиный\n",
    "def camel_to_snake(s_list):\n",
    "    new_list = []\n",
    "    for s in s_list:\n",
    "        new_list.append(''.join(['_'+c.lower() if c.isupper() else c for c in s]).lstrip('_'))\n",
    "    return new_list"
   ]
  },
  {
   "cell_type": "markdown",
   "id": "a4562cb3",
   "metadata": {},
   "source": [
    "### Обзор и предобработка данных"
   ]
  },
  {
   "cell_type": "markdown",
   "id": "0a9ccfc8",
   "metadata": {},
   "source": [
    "Изучим файл с логами."
   ]
  },
  {
   "cell_type": "code",
   "execution_count": 7,
   "id": "b5feb50f",
   "metadata": {
    "scrolled": false
   },
   "outputs": [
    {
     "name": "stdout",
     "output_type": "stream",
     "text": [
      "-----------------------------------------------------Общая структура данных----------------------------------------------------\n",
      "\n",
      "<class 'pandas.core.frame.DataFrame'>\n",
      "RangeIndex: 244126 entries, 0 to 244125\n",
      "Data columns (total 4 columns):\n",
      " #   Column          Non-Null Count   Dtype \n",
      "---  ------          --------------   ----- \n",
      " 0   EventName       244126 non-null  object\n",
      " 1   DeviceIDHash    244126 non-null  int64 \n",
      " 2   EventTimestamp  244126 non-null  int64 \n",
      " 3   ExpId           244126 non-null  int64 \n",
      "dtypes: int64(3), object(1)\n",
      "memory usage: 7.5+ MB\n"
     ]
    },
    {
     "data": {
      "text/plain": [
       "None"
      ]
     },
     "metadata": {},
     "output_type": "display_data"
    },
    {
     "name": "stdout",
     "output_type": "stream",
     "text": [
      "-------------------------------------------------------------------------------------------------------------------------------\n",
      "\n",
      "----------------------------------------------------Первые 10 строк таблицы----------------------------------------------------\n"
     ]
    },
    {
     "data": {
      "text/html": [
       "<style  type=\"text/css\" >\n",
       "    #T_c449d_ tr:nth-of-type(odd) {\n",
       "          background: #eee;\n",
       "    }    #T_c449d_ tr:nth-of-type(even) {\n",
       "          background: white;\n",
       "    }    #T_c449d_ th {\n",
       "          background: #2DA679;\n",
       "          color: white;\n",
       "          font-family: verdana;\n",
       "    }    #T_c449d_ td {\n",
       "          font-family: verdana;\n",
       "    }</style><table id=\"T_c449d_\" ><thead>    <tr>        <th class=\"col_heading level0 col0\" >EventName</th>        <th class=\"col_heading level0 col1\" >DeviceIDHash</th>        <th class=\"col_heading level0 col2\" >EventTimestamp</th>        <th class=\"col_heading level0 col3\" >ExpId</th>    </tr></thead><tbody>\n",
       "                <tr>\n",
       "                                <td id=\"T_c449d_row0_col0\" class=\"data row0 col0\" >MainScreenAppear</td>\n",
       "                        <td id=\"T_c449d_row0_col1\" class=\"data row0 col1\" >4575588528974610257</td>\n",
       "                        <td id=\"T_c449d_row0_col2\" class=\"data row0 col2\" >1564029816</td>\n",
       "                        <td id=\"T_c449d_row0_col3\" class=\"data row0 col3\" >246</td>\n",
       "            </tr>\n",
       "            <tr>\n",
       "                                <td id=\"T_c449d_row1_col0\" class=\"data row1 col0\" >MainScreenAppear</td>\n",
       "                        <td id=\"T_c449d_row1_col1\" class=\"data row1 col1\" >7416695313311560658</td>\n",
       "                        <td id=\"T_c449d_row1_col2\" class=\"data row1 col2\" >1564053102</td>\n",
       "                        <td id=\"T_c449d_row1_col3\" class=\"data row1 col3\" >246</td>\n",
       "            </tr>\n",
       "            <tr>\n",
       "                                <td id=\"T_c449d_row2_col0\" class=\"data row2 col0\" >PaymentScreenSuccessful</td>\n",
       "                        <td id=\"T_c449d_row2_col1\" class=\"data row2 col1\" >3518123091307005509</td>\n",
       "                        <td id=\"T_c449d_row2_col2\" class=\"data row2 col2\" >1564054127</td>\n",
       "                        <td id=\"T_c449d_row2_col3\" class=\"data row2 col3\" >248</td>\n",
       "            </tr>\n",
       "            <tr>\n",
       "                                <td id=\"T_c449d_row3_col0\" class=\"data row3 col0\" >CartScreenAppear</td>\n",
       "                        <td id=\"T_c449d_row3_col1\" class=\"data row3 col1\" >3518123091307005509</td>\n",
       "                        <td id=\"T_c449d_row3_col2\" class=\"data row3 col2\" >1564054127</td>\n",
       "                        <td id=\"T_c449d_row3_col3\" class=\"data row3 col3\" >248</td>\n",
       "            </tr>\n",
       "            <tr>\n",
       "                                <td id=\"T_c449d_row4_col0\" class=\"data row4 col0\" >PaymentScreenSuccessful</td>\n",
       "                        <td id=\"T_c449d_row4_col1\" class=\"data row4 col1\" >6217807653094995999</td>\n",
       "                        <td id=\"T_c449d_row4_col2\" class=\"data row4 col2\" >1564055322</td>\n",
       "                        <td id=\"T_c449d_row4_col3\" class=\"data row4 col3\" >248</td>\n",
       "            </tr>\n",
       "            <tr>\n",
       "                                <td id=\"T_c449d_row5_col0\" class=\"data row5 col0\" >CartScreenAppear</td>\n",
       "                        <td id=\"T_c449d_row5_col1\" class=\"data row5 col1\" >6217807653094995999</td>\n",
       "                        <td id=\"T_c449d_row5_col2\" class=\"data row5 col2\" >1564055323</td>\n",
       "                        <td id=\"T_c449d_row5_col3\" class=\"data row5 col3\" >248</td>\n",
       "            </tr>\n",
       "            <tr>\n",
       "                                <td id=\"T_c449d_row6_col0\" class=\"data row6 col0\" >OffersScreenAppear</td>\n",
       "                        <td id=\"T_c449d_row6_col1\" class=\"data row6 col1\" >8351860793733343758</td>\n",
       "                        <td id=\"T_c449d_row6_col2\" class=\"data row6 col2\" >1564066242</td>\n",
       "                        <td id=\"T_c449d_row6_col3\" class=\"data row6 col3\" >246</td>\n",
       "            </tr>\n",
       "            <tr>\n",
       "                                <td id=\"T_c449d_row7_col0\" class=\"data row7 col0\" >MainScreenAppear</td>\n",
       "                        <td id=\"T_c449d_row7_col1\" class=\"data row7 col1\" >5682100281902512875</td>\n",
       "                        <td id=\"T_c449d_row7_col2\" class=\"data row7 col2\" >1564085677</td>\n",
       "                        <td id=\"T_c449d_row7_col3\" class=\"data row7 col3\" >246</td>\n",
       "            </tr>\n",
       "            <tr>\n",
       "                                <td id=\"T_c449d_row8_col0\" class=\"data row8 col0\" >MainScreenAppear</td>\n",
       "                        <td id=\"T_c449d_row8_col1\" class=\"data row8 col1\" >1850981295691852772</td>\n",
       "                        <td id=\"T_c449d_row8_col2\" class=\"data row8 col2\" >1564086702</td>\n",
       "                        <td id=\"T_c449d_row8_col3\" class=\"data row8 col3\" >247</td>\n",
       "            </tr>\n",
       "            <tr>\n",
       "                                <td id=\"T_c449d_row9_col0\" class=\"data row9 col0\" >MainScreenAppear</td>\n",
       "                        <td id=\"T_c449d_row9_col1\" class=\"data row9 col1\" >5407636962369102641</td>\n",
       "                        <td id=\"T_c449d_row9_col2\" class=\"data row9 col2\" >1564112112</td>\n",
       "                        <td id=\"T_c449d_row9_col3\" class=\"data row9 col3\" >246</td>\n",
       "            </tr>\n",
       "    </tbody></table>"
      ],
      "text/plain": [
       "<pandas.io.formats.style.Styler at 0x1c7df801370>"
      ]
     },
     "metadata": {},
     "output_type": "display_data"
    },
    {
     "name": "stdout",
     "output_type": "stream",
     "text": [
      "-------------------------------------------------------------------------------------------------------------------------------\n",
      "\n",
      "----------------------------------------Доля пропущенных значений по столбцам в таблице----------------------------------------\n"
     ]
    },
    {
     "data": {
      "text/plain": [
       "EventName        0.00\n",
       "DeviceIDHash     0.00\n",
       "EventTimestamp   0.00\n",
       "ExpId            0.00\n",
       "dtype: float64"
      ]
     },
     "metadata": {},
     "output_type": "display_data"
    },
    {
     "name": "stdout",
     "output_type": "stream",
     "text": [
      "-------------------------------------------------------------------------------------------------------------------------------\n",
      "\n",
      "------------------------------------------Визуализируем пропущенные значения графиком------------------------------------------\n"
     ]
    },
    {
     "data": {
      "image/png": "[encoded data removed]",
      "text/plain": [
       "<Figure size 1000x800 with 1 Axes>"
      ]
     },
     "metadata": {},
     "output_type": "display_data"
    },
    {
     "name": "stdout",
     "output_type": "stream",
     "text": [
      "-------------------------------------------------------------------------------------------------------------------------------\n",
      "\n",
      "Количество полных дубликатов: 413\n",
      "\n",
      "-------------------------------------------------------------------------------------------------------------------------------\n",
      "\n",
      "------------------------------------------Статистическая информация о числовых данных------------------------------------------\n"
     ]
    },
    {
     "data": {
      "text/html": [
       "<div>\n",
       "<style scoped>\n",
       "    .dataframe tbody tr th:only-of-type {\n",
       "        vertical-align: middle;\n",
       "    }\n",
       "\n",
       "    .dataframe tbody tr th {\n",
       "        vertical-align: top;\n",
       "    }\n",
       "\n",
       "    .dataframe thead th {\n",
       "        text-align: right;\n",
       "    }\n",
       "</style>\n",
       "<table border=\"1\" class=\"dataframe\">\n",
       "  <thead>\n",
       "    <tr style=\"text-align: right;\">\n",
       "      <th></th>\n",
       "      <th>DeviceIDHash</th>\n",
       "      <th>EventTimestamp</th>\n",
       "      <th>ExpId</th>\n",
       "    </tr>\n",
       "  </thead>\n",
       "  <tbody>\n",
       "    <tr>\n",
       "      <th>count</th>\n",
       "      <td>244126.00</td>\n",
       "      <td>244126.00</td>\n",
       "      <td>244126.00</td>\n",
       "    </tr>\n",
       "    <tr>\n",
       "      <th>mean</th>\n",
       "      <td>4627568124591259648.00</td>\n",
       "      <td>1564913915.84</td>\n",
       "      <td>247.02</td>\n",
       "    </tr>\n",
       "    <tr>\n",
       "      <th>std</th>\n",
       "      <td>2642424998963961856.00</td>\n",
       "      <td>177134.32</td>\n",
       "      <td>0.82</td>\n",
       "    </tr>\n",
       "    <tr>\n",
       "      <th>min</th>\n",
       "      <td>6888746892508752.00</td>\n",
       "      <td>1564029816.00</td>\n",
       "      <td>246.00</td>\n",
       "    </tr>\n",
       "    <tr>\n",
       "      <th>25%</th>\n",
       "      <td>2372212476992240640.00</td>\n",
       "      <td>1564756580.25</td>\n",
       "      <td>246.00</td>\n",
       "    </tr>\n",
       "    <tr>\n",
       "      <th>50%</th>\n",
       "      <td>4623191541214045184.00</td>\n",
       "      <td>1564919395.00</td>\n",
       "      <td>247.00</td>\n",
       "    </tr>\n",
       "    <tr>\n",
       "      <th>75%</th>\n",
       "      <td>6932517045703054336.00</td>\n",
       "      <td>1565074511.00</td>\n",
       "      <td>248.00</td>\n",
       "    </tr>\n",
       "    <tr>\n",
       "      <th>max</th>\n",
       "      <td>9222603179720523776.00</td>\n",
       "      <td>1565212517.00</td>\n",
       "      <td>248.00</td>\n",
       "    </tr>\n",
       "  </tbody>\n",
       "</table>\n",
       "</div>"
      ],
      "text/plain": [
       "                DeviceIDHash  EventTimestamp     ExpId\n",
       "count              244126.00       244126.00 244126.00\n",
       "mean  4627568124591259648.00   1564913915.84    247.02\n",
       "std   2642424998963961856.00       177134.32      0.82\n",
       "min      6888746892508752.00   1564029816.00    246.00\n",
       "25%   2372212476992240640.00   1564756580.25    246.00\n",
       "50%   4623191541214045184.00   1564919395.00    247.00\n",
       "75%   6932517045703054336.00   1565074511.00    248.00\n",
       "max   9222603179720523776.00   1565212517.00    248.00"
      ]
     },
     "metadata": {},
     "output_type": "display_data"
    },
    {
     "name": "stdout",
     "output_type": "stream",
     "text": [
      "-------------------------------------------------------------------------------------------------------------------------------\n",
      "\n"
     ]
    }
   ],
   "source": [
    "data_view(df_logs)"
   ]
  },
  {
   "cell_type": "markdown",
   "id": "20b6da76",
   "metadata": {},
   "source": [
    "#### Переименование столбцов"
   ]
  },
  {
   "cell_type": "markdown",
   "id": "a8e2d458",
   "metadata": {},
   "source": [
    "Для начала переведем названия столбцов в змеиный регистр для удобства."
   ]
  },
  {
   "cell_type": "code",
   "execution_count": 8,
   "id": "16e42589",
   "metadata": {
    "scrolled": true
   },
   "outputs": [
    {
     "data": {
      "text/plain": [
       "Index(['event_name', 'device_id_hash', 'event_timestamp', 'exp_id'], dtype='object')"
      ]
     },
     "execution_count": 8,
     "metadata": {},
     "output_type": "execute_result"
    }
   ],
   "source": [
    "df_logs.columns = camel_to_snake(df_logs.columns)\n",
    "df_logs = df_logs.rename(columns={'device_i_d_hash': 'device_id_hash'})\n",
    "df_logs.columns"
   ]
  },
  {
   "cell_type": "markdown",
   "id": "c1ab3d3f",
   "metadata": {},
   "source": [
    "#### Обработка дубликатов"
   ]
  },
  {
   "cell_type": "markdown",
   "id": "77cdd73a",
   "metadata": {},
   "source": [
    "Удалим дубликаты (выше мы показали, что таких дубликатов 413)."
   ]
  },
  {
   "cell_type": "code",
   "execution_count": 9,
   "id": "805ae143",
   "metadata": {
    "run_control": {
     "marked": false
    }
   },
   "outputs": [],
   "source": [
    "df_logs = df_logs.drop_duplicates()"
   ]
  },
  {
   "cell_type": "markdown",
   "id": "805d963f",
   "metadata": {},
   "source": [
    "Также проверим, что у нас нет двух одинаковых идентификаторов пользователя в разных группах теста. Иначе, это может исказить дальнейший анализ."
   ]
  },
  {
   "cell_type": "code",
   "execution_count": 10,
   "id": "0b965be8",
   "metadata": {
    "scrolled": true
   },
   "outputs": [
    {
     "data": {
      "text/html": [
       "<div>\n",
       "<style scoped>\n",
       "    .dataframe tbody tr th:only-of-type {\n",
       "        vertical-align: middle;\n",
       "    }\n",
       "\n",
       "    .dataframe tbody tr th {\n",
       "        vertical-align: top;\n",
       "    }\n",
       "\n",
       "    .dataframe thead th {\n",
       "        text-align: right;\n",
       "    }\n",
       "</style>\n",
       "<table border=\"1\" class=\"dataframe\">\n",
       "  <thead>\n",
       "    <tr style=\"text-align: right;\">\n",
       "      <th></th>\n",
       "      <th>device_id_hash</th>\n",
       "      <th>exp_id</th>\n",
       "    </tr>\n",
       "  </thead>\n",
       "  <tbody>\n",
       "    <tr>\n",
       "      <th>0</th>\n",
       "      <td>6888746892508752</td>\n",
       "      <td>1</td>\n",
       "    </tr>\n",
       "    <tr>\n",
       "      <th>1</th>\n",
       "      <td>6909561520679493</td>\n",
       "      <td>1</td>\n",
       "    </tr>\n",
       "    <tr>\n",
       "      <th>2</th>\n",
       "      <td>6922444491712477</td>\n",
       "      <td>1</td>\n",
       "    </tr>\n",
       "    <tr>\n",
       "      <th>3</th>\n",
       "      <td>7435777799948366</td>\n",
       "      <td>1</td>\n",
       "    </tr>\n",
       "    <tr>\n",
       "      <th>4</th>\n",
       "      <td>7702139951469979</td>\n",
       "      <td>1</td>\n",
       "    </tr>\n",
       "    <tr>\n",
       "      <th>...</th>\n",
       "      <td>...</td>\n",
       "      <td>...</td>\n",
       "    </tr>\n",
       "    <tr>\n",
       "      <th>7546</th>\n",
       "      <td>9217594193087726423</td>\n",
       "      <td>1</td>\n",
       "    </tr>\n",
       "    <tr>\n",
       "      <th>7547</th>\n",
       "      <td>9219463515465815368</td>\n",
       "      <td>1</td>\n",
       "    </tr>\n",
       "    <tr>\n",
       "      <th>7548</th>\n",
       "      <td>9220879493065341500</td>\n",
       "      <td>1</td>\n",
       "    </tr>\n",
       "    <tr>\n",
       "      <th>7549</th>\n",
       "      <td>9221926045299980007</td>\n",
       "      <td>1</td>\n",
       "    </tr>\n",
       "    <tr>\n",
       "      <th>7550</th>\n",
       "      <td>9222603179720523844</td>\n",
       "      <td>1</td>\n",
       "    </tr>\n",
       "  </tbody>\n",
       "</table>\n",
       "<p>7551 rows × 2 columns</p>\n",
       "</div>"
      ],
      "text/plain": [
       "           device_id_hash  exp_id\n",
       "0        6888746892508752       1\n",
       "1        6909561520679493       1\n",
       "2        6922444491712477       1\n",
       "3        7435777799948366       1\n",
       "4        7702139951469979       1\n",
       "...                   ...     ...\n",
       "7546  9217594193087726423       1\n",
       "7547  9219463515465815368       1\n",
       "7548  9220879493065341500       1\n",
       "7549  9221926045299980007       1\n",
       "7550  9222603179720523844       1\n",
       "\n",
       "[7551 rows x 2 columns]"
      ]
     },
     "execution_count": 10,
     "metadata": {},
     "output_type": "execute_result"
    }
   ],
   "source": [
    "# подсчет количества уникальных групп теста для каждого пользователя\n",
    "t = df_logs.groupby('device_id_hash', as_index=False)['exp_id'].nunique()\n",
    "t"
   ]
  },
  {
   "cell_type": "code",
   "execution_count": 11,
   "id": "070e2ba2",
   "metadata": {},
   "outputs": [
    {
     "data": {
      "text/html": [
       "<div>\n",
       "<style scoped>\n",
       "    .dataframe tbody tr th:only-of-type {\n",
       "        vertical-align: middle;\n",
       "    }\n",
       "\n",
       "    .dataframe tbody tr th {\n",
       "        vertical-align: top;\n",
       "    }\n",
       "\n",
       "    .dataframe thead th {\n",
       "        text-align: right;\n",
       "    }\n",
       "</style>\n",
       "<table border=\"1\" class=\"dataframe\">\n",
       "  <thead>\n",
       "    <tr style=\"text-align: right;\">\n",
       "      <th></th>\n",
       "      <th>device_id_hash</th>\n",
       "      <th>exp_id</th>\n",
       "    </tr>\n",
       "  </thead>\n",
       "  <tbody>\n",
       "  </tbody>\n",
       "</table>\n",
       "</div>"
      ],
      "text/plain": [
       "Empty DataFrame\n",
       "Columns: [device_id_hash, exp_id]\n",
       "Index: []"
      ]
     },
     "execution_count": 11,
     "metadata": {},
     "output_type": "execute_result"
    }
   ],
   "source": [
    "# Проверка, что количество групп не больше 1\n",
    "t.query('exp_id > 1')"
   ]
  },
  {
   "cell_type": "markdown",
   "id": "4af2d5a6",
   "metadata": {},
   "source": [
    "Таких пользователей не нашлось."
   ]
  },
  {
   "cell_type": "markdown",
   "id": "8544ac91",
   "metadata": {},
   "source": [
    "#### Преобразование типа столбца `timestamp` "
   ]
  },
  {
   "cell_type": "markdown",
   "id": "48541299",
   "metadata": {},
   "source": [
    "Преобразуем тип данных времени в тип `datetime`. Отметим, что в таблице время задано в секундах в формате Unix. Заодно выведем наш исследуемый диапазон времени."
   ]
  },
  {
   "cell_type": "code",
   "execution_count": 12,
   "id": "95c4c2f7",
   "metadata": {},
   "outputs": [
    {
     "name": "stdout",
     "output_type": "stream",
     "text": [
      "Минимальное время в таблице 2019-07-25 04:43:36 \n",
      "Максимальное время в таблице 2019-08-07 21:15:17\n"
     ]
    }
   ],
   "source": [
    "df_logs['event_timestamp'] = pd.to_datetime(df_logs['event_timestamp'], unit='s')\n",
    "print(f'Минимальное время в таблице {df_logs[\"event_timestamp\"].min()}',\n",
    "     f'\\nМаксимальное время в таблице {df_logs[\"event_timestamp\"].max()}')"
   ]
  },
  {
   "cell_type": "markdown",
   "id": "47657a2e",
   "metadata": {},
   "source": [
    "Добавим столбец с датой для дальнейшего удобства."
   ]
  },
  {
   "cell_type": "code",
   "execution_count": 13,
   "id": "c07b10b8",
   "metadata": {},
   "outputs": [
    {
     "name": "stdout",
     "output_type": "stream",
     "text": [
      "----------------------------------------------------Первые 10 строк таблицы----------------------------------------------------\n"
     ]
    },
    {
     "data": {
      "text/html": [
       "<style  type=\"text/css\" >\n",
       "    #T_7b06e_ tr:nth-of-type(odd) {\n",
       "          background: #eee;\n",
       "    }    #T_7b06e_ tr:nth-of-type(even) {\n",
       "          background: white;\n",
       "    }    #T_7b06e_ th {\n",
       "          background: #2DA679;\n",
       "          color: white;\n",
       "          font-family: verdana;\n",
       "    }    #T_7b06e_ td {\n",
       "          font-family: verdana;\n",
       "    }</style><table id=\"T_7b06e_\" ><thead>    <tr>        <th class=\"col_heading level0 col0\" >event_name</th>        <th class=\"col_heading level0 col1\" >device_id_hash</th>        <th class=\"col_heading level0 col2\" >event_timestamp</th>        <th class=\"col_heading level0 col3\" >exp_id</th>        <th class=\"col_heading level0 col4\" >event_date</th>    </tr></thead><tbody>\n",
       "                <tr>\n",
       "                                <td id=\"T_7b06e_row0_col0\" class=\"data row0 col0\" >MainScreenAppear</td>\n",
       "                        <td id=\"T_7b06e_row0_col1\" class=\"data row0 col1\" >4575588528974610257</td>\n",
       "                        <td id=\"T_7b06e_row0_col2\" class=\"data row0 col2\" >2019-07-25 04:43:36</td>\n",
       "                        <td id=\"T_7b06e_row0_col3\" class=\"data row0 col3\" >246</td>\n",
       "                        <td id=\"T_7b06e_row0_col4\" class=\"data row0 col4\" >2019-07-25 00:00:00</td>\n",
       "            </tr>\n",
       "            <tr>\n",
       "                                <td id=\"T_7b06e_row1_col0\" class=\"data row1 col0\" >MainScreenAppear</td>\n",
       "                        <td id=\"T_7b06e_row1_col1\" class=\"data row1 col1\" >7416695313311560658</td>\n",
       "                        <td id=\"T_7b06e_row1_col2\" class=\"data row1 col2\" >2019-07-25 11:11:42</td>\n",
       "                        <td id=\"T_7b06e_row1_col3\" class=\"data row1 col3\" >246</td>\n",
       "                        <td id=\"T_7b06e_row1_col4\" class=\"data row1 col4\" >2019-07-25 00:00:00</td>\n",
       "            </tr>\n",
       "            <tr>\n",
       "                                <td id=\"T_7b06e_row2_col0\" class=\"data row2 col0\" >PaymentScreenSuccessful</td>\n",
       "                        <td id=\"T_7b06e_row2_col1\" class=\"data row2 col1\" >3518123091307005509</td>\n",
       "                        <td id=\"T_7b06e_row2_col2\" class=\"data row2 col2\" >2019-07-25 11:28:47</td>\n",
       "                        <td id=\"T_7b06e_row2_col3\" class=\"data row2 col3\" >248</td>\n",
       "                        <td id=\"T_7b06e_row2_col4\" class=\"data row2 col4\" >2019-07-25 00:00:00</td>\n",
       "            </tr>\n",
       "            <tr>\n",
       "                                <td id=\"T_7b06e_row3_col0\" class=\"data row3 col0\" >CartScreenAppear</td>\n",
       "                        <td id=\"T_7b06e_row3_col1\" class=\"data row3 col1\" >3518123091307005509</td>\n",
       "                        <td id=\"T_7b06e_row3_col2\" class=\"data row3 col2\" >2019-07-25 11:28:47</td>\n",
       "                        <td id=\"T_7b06e_row3_col3\" class=\"data row3 col3\" >248</td>\n",
       "                        <td id=\"T_7b06e_row3_col4\" class=\"data row3 col4\" >2019-07-25 00:00:00</td>\n",
       "            </tr>\n",
       "            <tr>\n",
       "                                <td id=\"T_7b06e_row4_col0\" class=\"data row4 col0\" >PaymentScreenSuccessful</td>\n",
       "                        <td id=\"T_7b06e_row4_col1\" class=\"data row4 col1\" >6217807653094995999</td>\n",
       "                        <td id=\"T_7b06e_row4_col2\" class=\"data row4 col2\" >2019-07-25 11:48:42</td>\n",
       "                        <td id=\"T_7b06e_row4_col3\" class=\"data row4 col3\" >248</td>\n",
       "                        <td id=\"T_7b06e_row4_col4\" class=\"data row4 col4\" >2019-07-25 00:00:00</td>\n",
       "            </tr>\n",
       "            <tr>\n",
       "                                <td id=\"T_7b06e_row5_col0\" class=\"data row5 col0\" >CartScreenAppear</td>\n",
       "                        <td id=\"T_7b06e_row5_col1\" class=\"data row5 col1\" >6217807653094995999</td>\n",
       "                        <td id=\"T_7b06e_row5_col2\" class=\"data row5 col2\" >2019-07-25 11:48:43</td>\n",
       "                        <td id=\"T_7b06e_row5_col3\" class=\"data row5 col3\" >248</td>\n",
       "                        <td id=\"T_7b06e_row5_col4\" class=\"data row5 col4\" >2019-07-25 00:00:00</td>\n",
       "            </tr>\n",
       "            <tr>\n",
       "                                <td id=\"T_7b06e_row6_col0\" class=\"data row6 col0\" >OffersScreenAppear</td>\n",
       "                        <td id=\"T_7b06e_row6_col1\" class=\"data row6 col1\" >8351860793733343758</td>\n",
       "                        <td id=\"T_7b06e_row6_col2\" class=\"data row6 col2\" >2019-07-25 14:50:42</td>\n",
       "                        <td id=\"T_7b06e_row6_col3\" class=\"data row6 col3\" >246</td>\n",
       "                        <td id=\"T_7b06e_row6_col4\" class=\"data row6 col4\" >2019-07-25 00:00:00</td>\n",
       "            </tr>\n",
       "            <tr>\n",
       "                                <td id=\"T_7b06e_row7_col0\" class=\"data row7 col0\" >MainScreenAppear</td>\n",
       "                        <td id=\"T_7b06e_row7_col1\" class=\"data row7 col1\" >5682100281902512875</td>\n",
       "                        <td id=\"T_7b06e_row7_col2\" class=\"data row7 col2\" >2019-07-25 20:14:37</td>\n",
       "                        <td id=\"T_7b06e_row7_col3\" class=\"data row7 col3\" >246</td>\n",
       "                        <td id=\"T_7b06e_row7_col4\" class=\"data row7 col4\" >2019-07-25 00:00:00</td>\n",
       "            </tr>\n",
       "            <tr>\n",
       "                                <td id=\"T_7b06e_row8_col0\" class=\"data row8 col0\" >MainScreenAppear</td>\n",
       "                        <td id=\"T_7b06e_row8_col1\" class=\"data row8 col1\" >1850981295691852772</td>\n",
       "                        <td id=\"T_7b06e_row8_col2\" class=\"data row8 col2\" >2019-07-25 20:31:42</td>\n",
       "                        <td id=\"T_7b06e_row8_col3\" class=\"data row8 col3\" >247</td>\n",
       "                        <td id=\"T_7b06e_row8_col4\" class=\"data row8 col4\" >2019-07-25 00:00:00</td>\n",
       "            </tr>\n",
       "            <tr>\n",
       "                                <td id=\"T_7b06e_row9_col0\" class=\"data row9 col0\" >MainScreenAppear</td>\n",
       "                        <td id=\"T_7b06e_row9_col1\" class=\"data row9 col1\" >5407636962369102641</td>\n",
       "                        <td id=\"T_7b06e_row9_col2\" class=\"data row9 col2\" >2019-07-26 03:35:12</td>\n",
       "                        <td id=\"T_7b06e_row9_col3\" class=\"data row9 col3\" >246</td>\n",
       "                        <td id=\"T_7b06e_row9_col4\" class=\"data row9 col4\" >2019-07-26 00:00:00</td>\n",
       "            </tr>\n",
       "    </tbody></table>"
      ],
      "text/plain": [
       "<pandas.io.formats.style.Styler at 0x1c7ef1c3eb0>"
      ]
     },
     "metadata": {},
     "output_type": "display_data"
    }
   ],
   "source": [
    "df_logs['event_date'] = pd.to_datetime(df_logs['event_timestamp'].dt.date)\n",
    "nice_display(df_logs, 10)"
   ]
  },
  {
   "cell_type": "code",
   "execution_count": 14,
   "id": "671f52f1",
   "metadata": {},
   "outputs": [
    {
     "name": "stdout",
     "output_type": "stream",
     "text": [
      "<class 'pandas.core.frame.DataFrame'>\n",
      "Int64Index: 243713 entries, 0 to 244125\n",
      "Data columns (total 5 columns):\n",
      " #   Column           Non-Null Count   Dtype         \n",
      "---  ------           --------------   -----         \n",
      " 0   event_name       243713 non-null  object        \n",
      " 1   device_id_hash   243713 non-null  int64         \n",
      " 2   event_timestamp  243713 non-null  datetime64[ns]\n",
      " 3   exp_id           243713 non-null  int64         \n",
      " 4   event_date       243713 non-null  datetime64[ns]\n",
      "dtypes: datetime64[ns](2), int64(2), object(1)\n",
      "memory usage: 11.2+ MB\n"
     ]
    }
   ],
   "source": [
    "df_logs.info()"
   ]
  },
  {
   "cell_type": "markdown",
   "id": "dd45700a",
   "metadata": {},
   "source": [
    "### Вывод"
   ]
  },
  {
   "cell_type": "markdown",
   "id": "0dd46813",
   "metadata": {},
   "source": [
    "В этой части мы загрузили и предобработали данные.\n",
    "* Удалили полные дубликаты в данных;\n",
    "* Изменили названия столбцов на более удобные;\n",
    "* Привели данные к необходимому типу и добавили столбец с датой события для удобства;\n",
    "* Убедились, что в разных экспериментах нет одинаковых пользователей - значит данные об экспериментах собраны верно."
   ]
  },
  {
   "cell_type": "markdown",
   "id": "50226b4f",
   "metadata": {},
   "source": [
    "## Анализ данных"
   ]
  },
  {
   "cell_type": "markdown",
   "id": "099557e1",
   "metadata": {},
   "source": [
    "### Изучение данных"
   ]
  },
  {
   "cell_type": "markdown",
   "id": "bd45ad74",
   "metadata": {},
   "source": [
    "Соберем общую информацию о данных в нашем логе. Создадим таблицу, в которую будем добавлять общую информацию о данных."
   ]
  },
  {
   "cell_type": "code",
   "execution_count": 15,
   "id": "8d77935e",
   "metadata": {},
   "outputs": [],
   "source": [
    "# Функция создания таблицы с результатами\n",
    "def data_info(logs):\n",
    "    result_info = pd.DataFrame(columns=['info', 'result'])\n",
    "    result_info.loc[0, 'info'] = 'Всего событий'\n",
    "    result_info.loc[1, 'info'] = 'Всего пользователей'\n",
    "    result_info.loc[2, 'info'] = 'В среднем событий на пользователя'\n",
    "    result_info.loc[3, 'info'] = 'Медианное количество событий на пользователя'\n",
    "    result_info.loc[4, 'info'] = 'Минимальное время в логах'\n",
    "    result_info.loc[5, 'info'] = 'Максимальное время в логах'\n",
    "    result_info.loc[6, 'info'] = 'Общая продолжительность доступных данных'\n",
    "    result_info.loc[0, 'result'] = logs['event_name'].count()\n",
    "    result_info.loc[1, 'result'] = logs['device_id_hash'].nunique()\n",
    "    result_info.loc[2, 'result'] = int(logs.groupby('device_id_hash')['event_name'].count().mean())\n",
    "    result_info.loc[3, 'result'] = int(logs.groupby('device_id_hash')['event_name'].count().median())\n",
    "    result_info.loc[4, 'result'] = logs['event_timestamp'].min()\n",
    "    result_info.loc[5, 'result'] = logs['event_timestamp'].max()\n",
    "    result_info.loc[6, 'result'] = logs['event_timestamp'].max()  - logs['event_timestamp'].min()\n",
    "    return result_info"
   ]
  },
  {
   "cell_type": "code",
   "execution_count": 16,
   "id": "9ab63688",
   "metadata": {},
   "outputs": [
    {
     "name": "stdout",
     "output_type": "stream",
     "text": [
      "-----------------------------------------------------Первые 7 строк таблицы----------------------------------------------------\n"
     ]
    },
    {
     "data": {
      "text/html": [
       "<style  type=\"text/css\" >\n",
       "    #T_0353f_ tr:nth-of-type(odd) {\n",
       "          background: #eee;\n",
       "    }    #T_0353f_ tr:nth-of-type(even) {\n",
       "          background: white;\n",
       "    }    #T_0353f_ th {\n",
       "          background: #2DA679;\n",
       "          color: white;\n",
       "          font-family: verdana;\n",
       "    }    #T_0353f_ td {\n",
       "          font-family: verdana;\n",
       "    }</style><table id=\"T_0353f_\" ><thead>    <tr>        <th class=\"col_heading level0 col0\" >info</th>        <th class=\"col_heading level0 col1\" >result</th>    </tr></thead><tbody>\n",
       "                <tr>\n",
       "                                <td id=\"T_0353f_row0_col0\" class=\"data row0 col0\" >Всего событий</td>\n",
       "                        <td id=\"T_0353f_row0_col1\" class=\"data row0 col1\" >243713</td>\n",
       "            </tr>\n",
       "            <tr>\n",
       "                                <td id=\"T_0353f_row1_col0\" class=\"data row1 col0\" >Всего пользователей</td>\n",
       "                        <td id=\"T_0353f_row1_col1\" class=\"data row1 col1\" >7551</td>\n",
       "            </tr>\n",
       "            <tr>\n",
       "                                <td id=\"T_0353f_row2_col0\" class=\"data row2 col0\" >В среднем событий на пользователя</td>\n",
       "                        <td id=\"T_0353f_row2_col1\" class=\"data row2 col1\" >32</td>\n",
       "            </tr>\n",
       "            <tr>\n",
       "                                <td id=\"T_0353f_row3_col0\" class=\"data row3 col0\" >Медианное количество событий на пользователя</td>\n",
       "                        <td id=\"T_0353f_row3_col1\" class=\"data row3 col1\" >20</td>\n",
       "            </tr>\n",
       "            <tr>\n",
       "                                <td id=\"T_0353f_row4_col0\" class=\"data row4 col0\" >Минимальное время в логах</td>\n",
       "                        <td id=\"T_0353f_row4_col1\" class=\"data row4 col1\" >2019-07-25 04:43:36</td>\n",
       "            </tr>\n",
       "            <tr>\n",
       "                                <td id=\"T_0353f_row5_col0\" class=\"data row5 col0\" >Максимальное время в логах</td>\n",
       "                        <td id=\"T_0353f_row5_col1\" class=\"data row5 col1\" >2019-08-07 21:15:17</td>\n",
       "            </tr>\n",
       "            <tr>\n",
       "                                <td id=\"T_0353f_row6_col0\" class=\"data row6 col0\" >Общая продолжительность доступных данных</td>\n",
       "                        <td id=\"T_0353f_row6_col1\" class=\"data row6 col1\" >13 days 16:31:41</td>\n",
       "            </tr>\n",
       "    </tbody></table>"
      ],
      "text/plain": [
       "<pandas.io.formats.style.Styler at 0x1c7ef443550>"
      ]
     },
     "metadata": {},
     "output_type": "display_data"
    }
   ],
   "source": [
    "nice_display(data_info(df_logs), 7)"
   ]
  },
  {
   "cell_type": "markdown",
   "id": "58f3d112",
   "metadata": {},
   "source": [
    "### Анализ количества событий"
   ]
  },
  {
   "cell_type": "markdown",
   "id": "4b315819",
   "metadata": {},
   "source": [
    "Посмотрим на количество событий в каждую доступную дату из логов."
   ]
  },
  {
   "cell_type": "code",
   "execution_count": 17,
   "id": "151fcbea",
   "metadata": {
    "scrolled": false
   },
   "outputs": [
    {
     "data": {
      "image/png": "[encoded data removed]",
      "text/plain": [
       "<Figure size 1000x800 with 1 Axes>"
      ]
     },
     "metadata": {},
     "output_type": "display_data"
    }
   ],
   "source": [
    "sns.histplot(data=df_logs, x='event_date', bins=14)\n",
    "plt.ylabel('Количество событий')\n",
    "plt.title('Распределение данных о событиях по датам')\n",
    "plt.xticks(rotation=45)\n",
    "plt.xlabel('Дата');"
   ]
  },
  {
   "cell_type": "markdown",
   "id": "393ec8eb",
   "metadata": {},
   "source": [
    "Также, посмотрим на распределение событий во времени для более подробной картины."
   ]
  },
  {
   "cell_type": "code",
   "execution_count": 18,
   "id": "acb22e96",
   "metadata": {},
   "outputs": [
    {
     "data": {
      "image/png": "[encoded data removed]"
     },
     "metadata": {},
     "output_type": "display_data"
    }
   ],
   "source": [
    "fig = px.histogram(df_logs, x=\"event_timestamp\", labels={\n",
    "                   'event_timestamp': 'Время', 'count': 'Всего событий'}, title='Распределение количества событий по времени',\n",
    "                  color_discrete_sequence=px.colors.qualitative.T10)\n",
    "fig.update_layout(yaxis_title=\"Всего событий\")\n",
    "fig.show()"
   ]
  },
  {
   "cell_type": "markdown",
   "id": "3ab59d24",
   "metadata": {},
   "source": [
    "Посмотрим на распределение количества событий для каждой группы эксперимента по датам."
   ]
  },
  {
   "cell_type": "code",
   "execution_count": 19,
   "id": "756ad39f",
   "metadata": {},
   "outputs": [],
   "source": [
    "df_logs_date = df_logs.groupby(['event_date', 'exp_id'], as_index=False).agg(\n",
    "    {'event_name': 'count', 'device_id_hash': 'nunique'})\n",
    "df_logs_date = df_logs_date.rename(columns={'event_name': 'events_count', 'device_id_hash': 'unique_devices'})"
   ]
  },
  {
   "cell_type": "code",
   "execution_count": 20,
   "id": "0f76a6f3",
   "metadata": {
    "scrolled": false
   },
   "outputs": [
    {
     "data": {
      "image/png": "[encoded data removed]",
      "text/plain": [
       "<Figure size 1000x1100 with 2 Axes>"
      ]
     },
     "metadata": {},
     "output_type": "display_data"
    }
   ],
   "source": [
    "sns.set(rc={'figure.figsize':(10,11)})\n",
    "fig, axs = plt.subplots(nrows=2, ncols=1, sharex=True)\n",
    "ax1 = plt.subplot(2, 1, 1)\n",
    "sns.lineplot(data=df_logs_date, x='event_date', y='events_count', hue='exp_id', palette='muted')\n",
    "plt.ylabel('Количество событий группы')\n",
    "plt.title('Распределение данных о событиях во времени по группам')\n",
    "plt.legend(title='Номер эксперимента')\n",
    "\n",
    "ax2 = plt.subplot(2, 1, 2)\n",
    "sns.lineplot(data=df_logs_date, x='event_date', y='unique_devices', hue='exp_id', palette='muted')\n",
    "plt.xticks(rotation=45)\n",
    "plt.xlabel('Дата')\n",
    "plt.ylabel('Количество уникальных пользователей группы')\n",
    "plt.title('Распределение количества пользователей во времени по группам')\n",
    "plt.legend(title='Номер эксперимента');"
   ]
  },
  {
   "cell_type": "markdown",
   "id": "f3fe85ce",
   "metadata": {},
   "source": [
    "Видно, что в первые дни эксперимента данных мало: основной массив данных приходится на  период с `01-08-2019`. Данные за предыдуший период будут мешать, лучше их отфильтровать."
   ]
  },
  {
   "cell_type": "markdown",
   "id": "f625e98c",
   "metadata": {},
   "source": [
    "Отфильтруем эти данные и посмотрим на общую информацию по уже отфильтрованным данным. Для наглядности добавим предыдущий общий анализ и посчитаем долю потерянных данных."
   ]
  },
  {
   "cell_type": "code",
   "execution_count": 21,
   "id": "d3ccc96d",
   "metadata": {},
   "outputs": [],
   "source": [
    "df_logs_filtered = df_logs.query('event_date >= 20190801')"
   ]
  },
  {
   "cell_type": "code",
   "execution_count": 22,
   "id": "7002c4d3",
   "metadata": {
    "run_control": {
     "marked": true
    }
   },
   "outputs": [
    {
     "name": "stdout",
     "output_type": "stream",
     "text": [
      "-----------------------------------------------------Первые 7 строк таблицы----------------------------------------------------\n"
     ]
    },
    {
     "data": {
      "text/html": [
       "<style  type=\"text/css\" >\n",
       "    #T_d37d2_ tr:nth-of-type(odd) {\n",
       "          background: #eee;\n",
       "    }    #T_d37d2_ tr:nth-of-type(even) {\n",
       "          background: white;\n",
       "    }    #T_d37d2_ th {\n",
       "          background: #2DA679;\n",
       "          color: white;\n",
       "          font-family: verdana;\n",
       "    }    #T_d37d2_ td {\n",
       "          font-family: verdana;\n",
       "    }</style><table id=\"T_d37d2_\" ><thead>    <tr>        <th class=\"col_heading level0 col0\" >info</th>        <th class=\"col_heading level0 col1\" >result</th>        <th class=\"col_heading level0 col2\" >new_result</th>        <th class=\"col_heading level0 col3\" >loss_ratio</th>    </tr></thead><tbody>\n",
       "                <tr>\n",
       "                                <td id=\"T_d37d2_row0_col0\" class=\"data row0 col0\" >Всего событий</td>\n",
       "                        <td id=\"T_d37d2_row0_col1\" class=\"data row0 col1\" >243713</td>\n",
       "                        <td id=\"T_d37d2_row0_col2\" class=\"data row0 col2\" >240887</td>\n",
       "                        <td id=\"T_d37d2_row0_col3\" class=\"data row0 col3\" >1.16%</td>\n",
       "            </tr>\n",
       "            <tr>\n",
       "                                <td id=\"T_d37d2_row1_col0\" class=\"data row1 col0\" >Всего пользователей</td>\n",
       "                        <td id=\"T_d37d2_row1_col1\" class=\"data row1 col1\" >7551</td>\n",
       "                        <td id=\"T_d37d2_row1_col2\" class=\"data row1 col2\" >7534</td>\n",
       "                        <td id=\"T_d37d2_row1_col3\" class=\"data row1 col3\" >0.23%</td>\n",
       "            </tr>\n",
       "            <tr>\n",
       "                                <td id=\"T_d37d2_row2_col0\" class=\"data row2 col0\" >В среднем событий на пользователя</td>\n",
       "                        <td id=\"T_d37d2_row2_col1\" class=\"data row2 col1\" >32</td>\n",
       "                        <td id=\"T_d37d2_row2_col2\" class=\"data row2 col2\" >31</td>\n",
       "                        <td id=\"T_d37d2_row2_col3\" class=\"data row2 col3\" >nan</td>\n",
       "            </tr>\n",
       "            <tr>\n",
       "                                <td id=\"T_d37d2_row3_col0\" class=\"data row3 col0\" >Медианное количество событий на пользователя</td>\n",
       "                        <td id=\"T_d37d2_row3_col1\" class=\"data row3 col1\" >20</td>\n",
       "                        <td id=\"T_d37d2_row3_col2\" class=\"data row3 col2\" >19</td>\n",
       "                        <td id=\"T_d37d2_row3_col3\" class=\"data row3 col3\" >nan</td>\n",
       "            </tr>\n",
       "            <tr>\n",
       "                                <td id=\"T_d37d2_row4_col0\" class=\"data row4 col0\" >Минимальное время в логах</td>\n",
       "                        <td id=\"T_d37d2_row4_col1\" class=\"data row4 col1\" >2019-07-25 04:43:36</td>\n",
       "                        <td id=\"T_d37d2_row4_col2\" class=\"data row4 col2\" >2019-08-01 00:07:28</td>\n",
       "                        <td id=\"T_d37d2_row4_col3\" class=\"data row4 col3\" >nan</td>\n",
       "            </tr>\n",
       "            <tr>\n",
       "                                <td id=\"T_d37d2_row5_col0\" class=\"data row5 col0\" >Максимальное время в логах</td>\n",
       "                        <td id=\"T_d37d2_row5_col1\" class=\"data row5 col1\" >2019-08-07 21:15:17</td>\n",
       "                        <td id=\"T_d37d2_row5_col2\" class=\"data row5 col2\" >2019-08-07 21:15:17</td>\n",
       "                        <td id=\"T_d37d2_row5_col3\" class=\"data row5 col3\" >nan</td>\n",
       "            </tr>\n",
       "            <tr>\n",
       "                                <td id=\"T_d37d2_row6_col0\" class=\"data row6 col0\" >Общая продолжительность доступных данных</td>\n",
       "                        <td id=\"T_d37d2_row6_col1\" class=\"data row6 col1\" >13 days 16:31:41</td>\n",
       "                        <td id=\"T_d37d2_row6_col2\" class=\"data row6 col2\" >6 days 21:07:49</td>\n",
       "                        <td id=\"T_d37d2_row6_col3\" class=\"data row6 col3\" >nan</td>\n",
       "            </tr>\n",
       "    </tbody></table>"
      ],
      "text/plain": [
       "<pandas.io.formats.style.Styler at 0x1c7f50db460>"
      ]
     },
     "metadata": {},
     "output_type": "display_data"
    }
   ],
   "source": [
    "compare_data = data_info(df_logs)\n",
    "compare_data['new_result'] = data_info(df_logs_filtered)['result']\n",
    "compare_data.loc[:1, 'loss_ratio'] = (\n",
    "    (compare_data.loc[:1, 'result'] - compare_data.loc[:1, 'new_result']) / \n",
    "    compare_data.loc[:1, 'result'] * 100).astype(float).round(2).map('{:,.2f}%'.format)\n",
    "nice_display(compare_data, 7)"
   ]
  },
  {
   "cell_type": "markdown",
   "id": "34a21398",
   "metadata": {},
   "source": [
    "### Анализ воронки событий"
   ]
  },
  {
   "cell_type": "markdown",
   "id": "29adf979",
   "metadata": {},
   "source": [
    "Посмотрим какой набор событий присутствует в наших логах."
   ]
  },
  {
   "cell_type": "code",
   "execution_count": 23,
   "id": "c721ff4b",
   "metadata": {},
   "outputs": [
    {
     "data": {
      "text/plain": [
       "MainScreenAppear           117328\n",
       "OffersScreenAppear          46333\n",
       "CartScreenAppear            42303\n",
       "PaymentScreenSuccessful     33918\n",
       "Tutorial                     1005\n",
       "Name: event_name, dtype: int64"
      ]
     },
     "execution_count": 23,
     "metadata": {},
     "output_type": "execute_result"
    }
   ],
   "source": [
    "df_logs_filtered['event_name'].value_counts()"
   ]
  },
  {
   "cell_type": "markdown",
   "id": "bc716e3d",
   "metadata": {},
   "source": [
    "Получили набор из 5 событий:\n",
    "* Самое популярное событие `MainScreenAppear` - показ главного экрана;\n",
    "* Второе по популярности `OffersScreenAppear` - показ экрана заказа;\n",
    "* Третье `CartScreenAppear` - показ экрана с корзиной;\n",
    "* Четвертое `PaymentScreenSuccessful` - показ экрана успешной оплаты;\n",
    "* Самое редкое событие `Tutorial` - судя по названию это прохождение обучения интерфейсу. "
   ]
  },
  {
   "cell_type": "markdown",
   "id": "0a7b63a1",
   "metadata": {},
   "source": [
    "Событие `Tutorial` напрямую не может влиять на то, купит или не купит ли пользователь продукт. Это, в том числе, подтверждает то, что это событие самое редкое, намного реже, чем событие успешной оплаты. Поэтому от таких записей можно избавиться."
   ]
  },
  {
   "cell_type": "code",
   "execution_count": 24,
   "id": "98ef4736",
   "metadata": {},
   "outputs": [
    {
     "data": {
      "text/plain": [
       "MainScreenAppear           117328\n",
       "OffersScreenAppear          46333\n",
       "CartScreenAppear            42303\n",
       "PaymentScreenSuccessful     33918\n",
       "Name: event_name, dtype: int64"
      ]
     },
     "execution_count": 24,
     "metadata": {},
     "output_type": "execute_result"
    }
   ],
   "source": [
    "# Удаление записей с событием Tutorial\n",
    "df_logs_filtered = df_logs_filtered.query('event_name != \"Tutorial\"').copy()\n",
    "df_logs_filtered['event_name'].value_counts()"
   ]
  },
  {
   "cell_type": "markdown",
   "id": "68ad29e1",
   "metadata": {},
   "source": [
    "Покажем у какого количества пользователей появлялось каждое из этих событий. Посчитаем долю событий во всех данных. Не будем учитывать повторяющиеся события у одного пользователя."
   ]
  },
  {
   "cell_type": "code",
   "execution_count": 25,
   "id": "e2ed9367",
   "metadata": {},
   "outputs": [
    {
     "name": "stdout",
     "output_type": "stream",
     "text": [
      "-----------------------------------------------------Первые 4 строк таблицы----------------------------------------------------\n"
     ]
    },
    {
     "data": {
      "text/html": [
       "<style  type=\"text/css\" >\n",
       "    #T_d893b_ tr:nth-of-type(odd) {\n",
       "          background: #eee;\n",
       "    }    #T_d893b_ tr:nth-of-type(even) {\n",
       "          background: white;\n",
       "    }    #T_d893b_ th {\n",
       "          background: #2DA679;\n",
       "          color: white;\n",
       "          font-family: verdana;\n",
       "    }    #T_d893b_ td {\n",
       "          font-family: verdana;\n",
       "    }</style><table id=\"T_d893b_\" ><thead>    <tr>        <th class=\"col_heading level0 col0\" >event_name</th>        <th class=\"col_heading level0 col1\" >id_count</th>        <th class=\"col_heading level0 col2\" >initial_ratio</th>    </tr></thead><tbody>\n",
       "                <tr>\n",
       "                                <td id=\"T_d893b_row0_col0\" class=\"data row0 col0\" >MainScreenAppear</td>\n",
       "                        <td id=\"T_d893b_row0_col1\" class=\"data row0 col1\" >7419</td>\n",
       "                        <td id=\"T_d893b_row0_col2\" class=\"data row0 col2\" >98.53%</td>\n",
       "            </tr>\n",
       "            <tr>\n",
       "                                <td id=\"T_d893b_row1_col0\" class=\"data row1 col0\" >OffersScreenAppear</td>\n",
       "                        <td id=\"T_d893b_row1_col1\" class=\"data row1 col1\" >4593</td>\n",
       "                        <td id=\"T_d893b_row1_col2\" class=\"data row1 col2\" >61.00%</td>\n",
       "            </tr>\n",
       "            <tr>\n",
       "                                <td id=\"T_d893b_row2_col0\" class=\"data row2 col0\" >CartScreenAppear</td>\n",
       "                        <td id=\"T_d893b_row2_col1\" class=\"data row2 col1\" >3734</td>\n",
       "                        <td id=\"T_d893b_row2_col2\" class=\"data row2 col2\" >49.59%</td>\n",
       "            </tr>\n",
       "            <tr>\n",
       "                                <td id=\"T_d893b_row3_col0\" class=\"data row3 col0\" >PaymentScreenSuccessful</td>\n",
       "                        <td id=\"T_d893b_row3_col1\" class=\"data row3 col1\" >3539</td>\n",
       "                        <td id=\"T_d893b_row3_col2\" class=\"data row3 col2\" >47.00%</td>\n",
       "            </tr>\n",
       "    </tbody></table>"
      ],
      "text/plain": [
       "<pandas.io.formats.style.Styler at 0x1c7f50dbfd0>"
      ]
     },
     "metadata": {},
     "output_type": "display_data"
    }
   ],
   "source": [
    "# Общее количество пользователей\n",
    "total_users = int(df_logs_filtered['device_id_hash'].nunique())\n",
    "\n",
    "# Группировка по типу события\n",
    "events_grouped = df_logs_filtered.groupby(['event_name'], as_index=False).agg(\n",
    "    {'device_id_hash': 'nunique'}).sort_values(by='device_id_hash', ascending=False)\n",
    "events_grouped.columns = ['event_name', 'id_count']\n",
    "events_grouped['initial_ratio'] = (events_grouped['id_count'] / total_users * 100).map('{:,.2f}%'.format)\n",
    "nice_display(events_grouped, 4)"
   ]
  },
  {
   "cell_type": "markdown",
   "id": "c911fb2b",
   "metadata": {},
   "source": [
    "Обратим внимание, что не у всех пользователей было событие `MainScreenAppear`. Это может быть связано с тем, что пользователи попадают на страницу заказа не через главный экран, а, например, через избранное. \n",
    "\n",
    "Но для дальнейшего анализа лучше избавиться от пользователей, которые по какой-то причине пропускали какие-то из этапов нашей воронки. Таким образом отфильтрованные данные будут более информативными. "
   ]
  },
  {
   "cell_type": "code",
   "execution_count": 26,
   "id": "ca15175e",
   "metadata": {},
   "outputs": [],
   "source": [
    "# Напишем функцию теста последовательности показа экранов для каждого пользователя \n",
    "def test_event(row):\n",
    "    if 'MainScreenAppear' in row['unique']: \n",
    "        if len(row['unique'])==1: return True\n",
    "        if 'OffersScreenAppear' in row['unique']:\n",
    "            if len(row['unique'])==2: return True\n",
    "            if 'CartScreenAppear' in row['unique']:\n",
    "                if len(row['unique'])==3: return True\n",
    "                if 'PaymentScreenSuccessful' in row['unique']: return True\n",
    "    return False"
   ]
  },
  {
   "cell_type": "code",
   "execution_count": 27,
   "id": "cdaf86b5",
   "metadata": {},
   "outputs": [
    {
     "name": "stdout",
     "output_type": "stream",
     "text": [
      "Всего пользователей с верной последовательностью экранов 7359 из 7530.\n",
      "Если оставить только таких пользователей, то потеря в количестве пользователей составит 2.27%\n"
     ]
    }
   ],
   "source": [
    "test_grouped = df_logs_filtered.groupby('device_id_hash', as_index=False)['event_name'].agg(['unique']).reset_index()\n",
    "# Добавим флаг для верных пользоваталей\n",
    "test_grouped['flag'] = test_grouped.apply(test_event, axis=1)\n",
    "print(f'Всего пользователей с верной последовательностью экранов {test_grouped[\"flag\"].sum()} из {total_users}.'\n",
    "      f'\\nЕсли оставить только таких пользователей, то потеря в количестве пользователей составит '\n",
    "      f'{((total_users - test_grouped[\"flag\"].sum())/total_users):.2%}')"
   ]
  },
  {
   "cell_type": "markdown",
   "id": "6d5846c4",
   "metadata": {},
   "source": [
    "***\n",
    "Потери будут незначительными, поэтому удалим пользователей с неверной последовательностью экранов и пересчитаем долю событий в данных."
   ]
  },
  {
   "cell_type": "code",
   "execution_count": 28,
   "id": "9f0f2673",
   "metadata": {},
   "outputs": [
    {
     "name": "stdout",
     "output_type": "stream",
     "text": [
      "Из изначальных было удалено 1.53% строк.\n"
     ]
    }
   ],
   "source": [
    "# Список id \"правильных\" пользователей\n",
    "good_ids = list(test_grouped[test_grouped[\"flag\"]]['device_id_hash'])\n",
    "clean_data = df_logs_filtered.query('device_id_hash in @good_ids')\n",
    "print(f'Из изначальных было удалено '\n",
    "      f'{((df_logs_filtered.shape[0] - clean_data.shape[0])/df_logs_filtered.shape[0]):.2%} строк.')"
   ]
  },
  {
   "cell_type": "markdown",
   "id": "d0410a07",
   "metadata": {},
   "source": [
    "Выведем финальную таблицу с долями пользователей для каждого события."
   ]
  },
  {
   "cell_type": "code",
   "execution_count": 29,
   "id": "8d6716a5",
   "metadata": {},
   "outputs": [
    {
     "name": "stdout",
     "output_type": "stream",
     "text": [
      "-----------------------------------------------------Первые 4 строк таблицы----------------------------------------------------\n"
     ]
    },
    {
     "data": {
      "text/html": [
       "<style  type=\"text/css\" >\n",
       "    #T_96899_ tr:nth-of-type(odd) {\n",
       "          background: #eee;\n",
       "    }    #T_96899_ tr:nth-of-type(even) {\n",
       "          background: white;\n",
       "    }    #T_96899_ th {\n",
       "          background: #2DA679;\n",
       "          color: white;\n",
       "          font-family: verdana;\n",
       "    }    #T_96899_ td {\n",
       "          font-family: verdana;\n",
       "    }</style><table id=\"T_96899_\" ><thead>    <tr>        <th class=\"col_heading level0 col0\" >event_name</th>        <th class=\"col_heading level0 col1\" >id_count</th>        <th class=\"col_heading level0 col2\" >initial_ratio</th>    </tr></thead><tbody>\n",
       "                <tr>\n",
       "                                <td id=\"T_96899_row0_col0\" class=\"data row0 col0\" >MainScreenAppear</td>\n",
       "                        <td id=\"T_96899_row0_col1\" class=\"data row0 col1\" >7359</td>\n",
       "                        <td id=\"T_96899_row0_col2\" class=\"data row0 col2\" >100.00%</td>\n",
       "            </tr>\n",
       "            <tr>\n",
       "                                <td id=\"T_96899_row1_col0\" class=\"data row1 col0\" >OffersScreenAppear</td>\n",
       "                        <td id=\"T_96899_row1_col1\" class=\"data row1 col1\" >4477</td>\n",
       "                        <td id=\"T_96899_row1_col2\" class=\"data row1 col2\" >60.84%</td>\n",
       "            </tr>\n",
       "            <tr>\n",
       "                                <td id=\"T_96899_row2_col0\" class=\"data row2 col0\" >CartScreenAppear</td>\n",
       "                        <td id=\"T_96899_row2_col1\" class=\"data row2 col1\" >3580</td>\n",
       "                        <td id=\"T_96899_row2_col2\" class=\"data row2 col2\" >48.65%</td>\n",
       "            </tr>\n",
       "            <tr>\n",
       "                                <td id=\"T_96899_row3_col0\" class=\"data row3 col0\" >PaymentScreenSuccessful</td>\n",
       "                        <td id=\"T_96899_row3_col1\" class=\"data row3 col1\" >3429</td>\n",
       "                        <td id=\"T_96899_row3_col2\" class=\"data row3 col2\" >46.60%</td>\n",
       "            </tr>\n",
       "    </tbody></table>"
      ],
      "text/plain": [
       "<pandas.io.formats.style.Styler at 0x1c7f4ec0df0>"
      ]
     },
     "metadata": {},
     "output_type": "display_data"
    }
   ],
   "source": [
    "# Общее количество \"правильных\" пользователей\n",
    "total_good_users = int(clean_data['device_id_hash'].nunique())\n",
    "\n",
    "# Группировка по типу события\n",
    "events_grouped = clean_data.groupby(['event_name'], as_index=False).agg(\n",
    "    {'device_id_hash': 'nunique'}).sort_values(by='device_id_hash', ascending=False)\n",
    "events_grouped.columns = ['event_name', 'id_count']\n",
    "events_grouped['initial_ratio'] = (events_grouped['id_count'] / total_good_users * 100).map('{:,.2f}%'.format)\n",
    "nice_display(events_grouped, 4)"
   ]
  },
  {
   "cell_type": "markdown",
   "id": "74a0caa8",
   "metadata": {},
   "source": [
    "Построим график воронки для наглядности."
   ]
  },
  {
   "cell_type": "code",
   "execution_count": 30,
   "id": "388db0d0",
   "metadata": {},
   "outputs": [
    {
     "data": {
      "image/png": "[encoded data removed]"
     },
     "metadata": {},
     "output_type": "display_data"
    }
   ],
   "source": [
    "fig = go.Figure(go.Funnel(\n",
    "    x = events_grouped['id_count'],\n",
    "    y = events_grouped['event_name'], \n",
    "    textinfo = \"value+percent previous+percent initial\",\n",
    "    opacity = 0.65, marker = {\"color\": px.colors.sequential.dense,\n",
    "    \"line\": {\"width\": [4, 2, 2, 3, 1, 1], \"color\": \"black\"}}\n",
    "    ))\n",
    "fig.layout = go.Layout(\n",
    "    title=go.layout.Title(text=\"Воронка событий по очищенным данным\"), width=980, height=700)\n",
    "fig.show()"
   ]
  },
  {
   "cell_type": "markdown",
   "id": "5391feee",
   "metadata": {},
   "source": [
    "Из графика видно, что на первом шаге теряется больше всего пользователей - 39%: при переходе от главного экрана на экран заказа. А до оплаты заказа доходит всего 47% изначальных пользователей."
   ]
  },
  {
   "cell_type": "markdown",
   "id": "16c4d1e5",
   "metadata": {},
   "source": [
    "### Вывод"
   ]
  },
  {
   "cell_type": "markdown",
   "id": "40178179",
   "metadata": {},
   "source": [
    "В этой части мы изучили данные и общее количество событий. Из-за недостаточности данных в начале периода мы отсеяли события до даты 01-Aug-2019.\n",
    "\n",
    "Также мы изучили какие события присутствуют в наших данных, построили общую воронку событий, убедившись при этом, что в нее попали только пользователи, \"начавшие\" свой путь с самого первого события. Мы это сделали, чтобы в дальнейшем избежать искажения данных и неверного подсчета долей воронки. Мы исключили из обзора событие `Tutorial`, т.к. оно не является шагом нашей воронки от показа главного экрана до покупки.\n",
    "\n",
    "Мы смогли показать, что самым критичным шагом является первый шаг, т.е. переход от главного экрана на страницу заказа. 39% пользователей теряются на этой этапе.\n",
    "\n"
   ]
  },
  {
   "cell_type": "markdown",
   "id": "b373af78",
   "metadata": {},
   "source": [
    "## Анализ эксперимента"
   ]
  },
  {
   "cell_type": "markdown",
   "id": "71eb2826",
   "metadata": {},
   "source": [
    "### Воронка событий с делением по экспериментальным группам"
   ]
  },
  {
   "cell_type": "markdown",
   "id": "0e6ca380",
   "metadata": {},
   "source": [
    "Разделим очищенный датафрейм по экспериментальным группам."
   ]
  },
  {
   "cell_type": "code",
   "execution_count": 31,
   "id": "319b067e",
   "metadata": {},
   "outputs": [
    {
     "name": "stdout",
     "output_type": "stream",
     "text": [
      "Всего пользователей:\n",
      " в первой A-группе 2433;\n",
      " во второй A-группе 2452;\n",
      " в группе B-теста 2474;\n"
     ]
    }
   ],
   "source": [
    "print(f'Всего пользователей:\\n в первой A-группе {clean_data.query(\"exp_id == 246\")[\"device_id_hash\"].nunique()};'\n",
    "     f'\\n во второй A-группе {clean_data.query(\"exp_id == 247\")[\"device_id_hash\"].nunique()};'\n",
    "     f'\\n в группе B-теста {clean_data.query(\"exp_id == 248\")[\"device_id_hash\"].nunique()};')"
   ]
  },
  {
   "cell_type": "markdown",
   "id": "51de92fe",
   "metadata": {},
   "source": [
    "Посмотрим как много пользователей видели каждый экран в каждой группе теста, построим воронку событий для всех групп."
   ]
  },
  {
   "cell_type": "code",
   "execution_count": 32,
   "id": "a3e7000a",
   "metadata": {},
   "outputs": [],
   "source": [
    "events_grouped = clean_data.groupby(['event_name', 'exp_id'], as_index=False).agg(\n",
    "    {'device_id_hash': 'nunique', 'exp_id': 'mean'}).sort_values(by='device_id_hash', ascending=False)"
   ]
  },
  {
   "cell_type": "code",
   "execution_count": 33,
   "id": "f07a9076",
   "metadata": {},
   "outputs": [
    {
     "data": {
      "image/png": "[encoded data removed]"
     },
     "metadata": {},
     "output_type": "display_data"
    }
   ],
   "source": [
    "fig = go.Figure()\n",
    "\n",
    "fig.add_trace(go.Funnel(\n",
    "    name = 'Группа А-1',\n",
    "    y=events_grouped[events_grouped['exp_id']==246]['event_name'],\n",
    "    x=events_grouped[events_grouped['exp_id']==246]['device_id_hash'],\n",
    "    opacity = 0.9, marker = {\"color\": px.colors.sequential.dense,\n",
    "    \"line\": {\"width\": [4, 2, 2, 3, 1, 1], \"color\": \"grey\"}},\n",
    "    textinfo = \"value+percent previous+percent initial\"))\n",
    "\n",
    "fig.add_trace(go.Funnel(\n",
    "    name = 'Группа А-2',\n",
    "    y=events_grouped[events_grouped['exp_id']==247]['event_name'],\n",
    "    x=events_grouped[events_grouped['exp_id']==247]['device_id_hash'],\n",
    "    textposition = \"inside\",\n",
    "    opacity = 0.9, marker = {\"color\": px.colors.sequential.matter,\n",
    "    \"line\": {\"width\": [4, 2, 2, 3, 1, 1], \"color\": \"grey\"}},\n",
    "    textinfo = \"value+percent previous+percent initial\"))\n",
    "\n",
    "fig.add_trace(go.Funnel(\n",
    "    name = 'Группа B',\n",
    "    y=events_grouped[events_grouped['exp_id']==248]['event_name'],\n",
    "    x=events_grouped[events_grouped['exp_id']==248]['device_id_hash'],\n",
    "    textposition = \"inside\",\n",
    "    opacity = 0.9, marker = {\"color\": px.colors.sequential.Tealgrn,\n",
    "    \"line\": {\"width\": [4, 2, 2, 3, 1, 1], \"color\": \"grey\"}},\n",
    "    textinfo = \"value+percent previous+percent initial\"))\n",
    "fig.layout = go.Layout(\n",
    "    title=go.layout.Title(text=\"Воронка событий по группам эксперимента\"), width=980, height=700)\n",
    "fig.show() "
   ]
  },
  {
   "cell_type": "markdown",
   "id": "7d4bd1ca",
   "metadata": {},
   "source": [
    "### Статистическое различие между группами "
   ]
  },
  {
   "cell_type": "markdown",
   "id": "4884743b",
   "metadata": {},
   "source": [
    "Сохраним количество событий показа каждого экрана заказа для каждого эксперимента в таблицу. Также создадим объединенную контрольную группу."
   ]
  },
  {
   "cell_type": "code",
   "execution_count": 34,
   "id": "c2114885",
   "metadata": {},
   "outputs": [
    {
     "data": {
      "text/html": [
       "<div>\n",
       "<style scoped>\n",
       "    .dataframe tbody tr th:only-of-type {\n",
       "        vertical-align: middle;\n",
       "    }\n",
       "\n",
       "    .dataframe tbody tr th {\n",
       "        vertical-align: top;\n",
       "    }\n",
       "\n",
       "    .dataframe thead th {\n",
       "        text-align: right;\n",
       "    }\n",
       "</style>\n",
       "<table border=\"1\" class=\"dataframe\">\n",
       "  <thead>\n",
       "    <tr style=\"text-align: right;\">\n",
       "      <th></th>\n",
       "      <th>A1</th>\n",
       "      <th>A2</th>\n",
       "      <th>B</th>\n",
       "      <th>A1+A2</th>\n",
       "    </tr>\n",
       "    <tr>\n",
       "      <th>event_name</th>\n",
       "      <th></th>\n",
       "      <th></th>\n",
       "      <th></th>\n",
       "      <th></th>\n",
       "    </tr>\n",
       "  </thead>\n",
       "  <tbody>\n",
       "    <tr>\n",
       "      <th>MainScreenAppear</th>\n",
       "      <td>2433</td>\n",
       "      <td>2452</td>\n",
       "      <td>2474</td>\n",
       "      <td>4885</td>\n",
       "    </tr>\n",
       "    <tr>\n",
       "      <th>OffersScreenAppear</th>\n",
       "      <td>1507</td>\n",
       "      <td>1483</td>\n",
       "      <td>1487</td>\n",
       "      <td>2990</td>\n",
       "    </tr>\n",
       "    <tr>\n",
       "      <th>CartScreenAppear</th>\n",
       "      <td>1221</td>\n",
       "      <td>1184</td>\n",
       "      <td>1175</td>\n",
       "      <td>2405</td>\n",
       "    </tr>\n",
       "    <tr>\n",
       "      <th>PaymentScreenSuccessful</th>\n",
       "      <td>1166</td>\n",
       "      <td>1125</td>\n",
       "      <td>1138</td>\n",
       "      <td>2291</td>\n",
       "    </tr>\n",
       "  </tbody>\n",
       "</table>\n",
       "</div>"
      ],
      "text/plain": [
       "                           A1    A2     B  A1+A2\n",
       "event_name                                      \n",
       "MainScreenAppear         2433  2452  2474   4885\n",
       "OffersScreenAppear       1507  1483  1487   2990\n",
       "CartScreenAppear         1221  1184  1175   2405\n",
       "PaymentScreenSuccessful  1166  1125  1138   2291"
      ]
     },
     "execution_count": 34,
     "metadata": {},
     "output_type": "execute_result"
    }
   ],
   "source": [
    "ratio_table = (events_grouped\n",
    "              .pivot(index='event_name', columns='exp_id', values='device_id_hash')\n",
    "              .sort_values(by=246, ascending=False))\n",
    "ratio_table.columns = ['A1', 'A2', 'B']\n",
    "ratio_table['A1+A2'] = ratio_table['A1'] + ratio_table['A2']\n",
    "ratio_table"
   ]
  },
  {
   "cell_type": "markdown",
   "id": "ec0561bf",
   "metadata": {},
   "source": [
    "#### Формулировка гипотез"
   ]
  },
  {
   "cell_type": "markdown",
   "id": "8031266c",
   "metadata": {},
   "source": [
    "Посчитаем статистические различия между долями показа экранов в наших группах эксперимента. Для этого сформулируем наши гипотезы."
   ]
  },
  {
   "cell_type": "markdown",
   "id": "9c2c51dc",
   "metadata": {},
   "source": [
    "Сформулируем нулевую $ H_0 $ и альтернативную $ H_1 $ гипотезу. <br>\n",
    "Гипотеза $ H_0 $: доли показа выбранного экрана по отношению к показам главного экрана у двух групп равны; <br>\n",
    "Гипотеза $ H_1 $: доли показа выбранного экрана по отношению к показам главного экрана у двух групп отличаются."
   ]
  },
  {
   "cell_type": "markdown",
   "id": "fa757143",
   "metadata": {},
   "source": [
    "#### Проверка гипотез"
   ]
  },
  {
   "cell_type": "markdown",
   "id": "87711fda",
   "metadata": {},
   "source": [
    "Напишем функцию расчета p-значения и сравнения его с уровнем статистической значимости. Будем использовать z-тест (z-критерий) для разности двух долей в экспериментах."
   ]
  },
  {
   "cell_type": "code",
   "execution_count": 35,
   "id": "fc743725",
   "metadata": {},
   "outputs": [],
   "source": [
    "def z_test(table, columns_list, index_name, alpha=0.05):\n",
    "    \n",
    "    share = table.loc[index_name, columns_list]\n",
    "    total = table.loc['MainScreenAppear', columns_list]\n",
    "    \n",
    "    # пропорция успехов в первой группе:\n",
    "    p1 = share[0]/total[0]\n",
    "\n",
    "    # пропорция успехов во второй группе:\n",
    "    p2 = share[1]/total[1]\n",
    "\n",
    "    # пропорция успехов в комбинированном датасете:\n",
    "    p_combined = (share[0] + share[1]) / (total[0] + total[1])\n",
    "\n",
    "    # разница пропорций в датасетах\n",
    "    difference = p1 - p2     \n",
    "    \n",
    "    # считаем статистику в ст.отклонениях стандартного нормального распределения\n",
    "    z_value = difference / mth.sqrt(\n",
    "        p_combined * (1 - p_combined) * (1 / total[0] + 1 / total[1])\n",
    "    )\n",
    "\n",
    "    # задаем стандартное нормальное распределение (среднее 0, ст.отклонение 1)\n",
    "    distr = st.norm(0, 1)\n",
    "\n",
    "    p_value = round(((1 - distr.cdf(abs(z_value))) * 2), 3)\n",
    "    \n",
    "    print(f'p-значение для сравнения групп {columns_list[0]} и {columns_list[1]} события `{index_name}`: {p_value}')\n",
    "\n",
    "    if p_value < alpha:\n",
    "        print(f'\\tОтвергаем нулевую гипотезу: между долями групп есть значимая разница.\\n')\n",
    "    else:\n",
    "        print(\n",
    "            f'\\tНе получилось отвергнуть нулевую гипотезу, нет оснований считать доли разными.\\n'\n",
    "        ) \n",
    "    "
   ]
  },
  {
   "cell_type": "markdown",
   "id": "3f74530c",
   "metadata": {},
   "source": [
    "Проверим гипотезу о равенстве долей двух контрольных групп A1 и A2 по самому популярному событию - `OffersScreenAppear`. Уровень статистической значимости возьмем пока 0.05."
   ]
  },
  {
   "cell_type": "markdown",
   "id": "0d378121",
   "metadata": {},
   "source": [
    "Проверим относительную разницу между количеством пользователей двух контрольных групп."
   ]
  },
  {
   "cell_type": "code",
   "execution_count": 36,
   "id": "167398a6",
   "metadata": {},
   "outputs": [
    {
     "name": "stdout",
     "output_type": "stream",
     "text": [
      "Относительная разница количества пользователей между двумя контрольными группами составит: 0.77%\n"
     ]
    }
   ],
   "source": [
    "diff = abs(ratio_table.loc['MainScreenAppear', 'A1'] - ratio_table.loc['MainScreenAppear', 'A2']) / \\\n",
    "    max(ratio_table.loc['MainScreenAppear', 'A1'],\n",
    "        ratio_table.loc['MainScreenAppear', 'A2'])\n",
    "print(f'Относительная разница количества пользователей между двумя контрольными группами составит: '\n",
    "      f'{diff:.2%}')"
   ]
  },
  {
   "cell_type": "markdown",
   "id": "92605a5f",
   "metadata": {},
   "source": [
    "Относительная разница между контрольными группами меньше 1%, значит контрольный группы сформированы равномерно и мы можем выполнить A/A тест."
   ]
  },
  {
   "cell_type": "code",
   "execution_count": 37,
   "id": "405ed763",
   "metadata": {},
   "outputs": [
    {
     "name": "stdout",
     "output_type": "stream",
     "text": [
      "p-значение для сравнения групп A1 и A2 события `OffersScreenAppear`: 0.295\n",
      "\tНе получилось отвергнуть нулевую гипотезу, нет оснований считать доли разными.\n",
      "\n"
     ]
    }
   ],
   "source": [
    "z_test(ratio_table, ['A1', 'A2'], 'OffersScreenAppear')"
   ]
  },
  {
   "cell_type": "markdown",
   "id": "4a496318",
   "metadata": {},
   "source": [
    "Мы смогли показать, что статистического различия между контрольным группами в долях события `OffersScreenAppear` нет. <br>\n",
    "Теперь проверим гипотезы о равенстве долей контрольных групп для других событий."
   ]
  },
  {
   "cell_type": "code",
   "execution_count": 38,
   "id": "5e10fdb1",
   "metadata": {},
   "outputs": [
    {
     "name": "stdout",
     "output_type": "stream",
     "text": [
      "p-значение для сравнения групп A1 и A2 события `CartScreenAppear`: 0.185\n",
      "\tНе получилось отвергнуть нулевую гипотезу, нет оснований считать доли разными.\n",
      "\n",
      "p-значение для сравнения групп A1 и A2 события `PaymentScreenSuccessful`: 0.152\n",
      "\tНе получилось отвергнуть нулевую гипотезу, нет оснований считать доли разными.\n",
      "\n"
     ]
    }
   ],
   "source": [
    "for i in ratio_table.index:\n",
    "    if i not in ['MainScreenAppear', 'OffersScreenAppear']:\n",
    "        z_test(ratio_table, ['A1', 'A2'], i)"
   ]
  },
  {
   "cell_type": "markdown",
   "id": "6d661a8a",
   "metadata": {},
   "source": [
    "Теперь посмотрим есть ли статистические различия между долями в контрольных группах и эксперементальной."
   ]
  },
  {
   "cell_type": "code",
   "execution_count": 39,
   "id": "0d8850a9",
   "metadata": {
    "scrolled": true
   },
   "outputs": [
    {
     "name": "stdout",
     "output_type": "stream",
     "text": [
      "p-значение для сравнения групп A1 и B события `OffersScreenAppear`: 0.188\n",
      "\tНе получилось отвергнуть нулевую гипотезу, нет оснований считать доли разными.\n",
      "\n",
      "p-значение для сравнения групп A2 и B события `OffersScreenAppear`: 0.787\n",
      "\tНе получилось отвергнуть нулевую гипотезу, нет оснований считать доли разными.\n",
      "\n",
      "p-значение для сравнения групп A1 и B события `CartScreenAppear`: 0.059\n",
      "\tНе получилось отвергнуть нулевую гипотезу, нет оснований считать доли разными.\n",
      "\n",
      "p-значение для сравнения групп A2 и B события `CartScreenAppear`: 0.577\n",
      "\tНе получилось отвергнуть нулевую гипотезу, нет оснований считать доли разными.\n",
      "\n",
      "p-значение для сравнения групп A1 и B события `PaymentScreenSuccessful`: 0.176\n",
      "\tНе получилось отвергнуть нулевую гипотезу, нет оснований считать доли разными.\n",
      "\n",
      "p-значение для сравнения групп A2 и B события `PaymentScreenSuccessful`: 0.934\n",
      "\tНе получилось отвергнуть нулевую гипотезу, нет оснований считать доли разными.\n",
      "\n"
     ]
    }
   ],
   "source": [
    "for i in ratio_table.index:\n",
    "    if i not in ['MainScreenAppear']:\n",
    "        for j in ['A1', 'A2']:\n",
    "            z_test(ratio_table, [j, 'B'], i)"
   ]
  },
  {
   "cell_type": "markdown",
   "id": "2736bedb",
   "metadata": {},
   "source": [
    "Теперь сравним эксперементальную группу с объединенной контрольной группой."
   ]
  },
  {
   "cell_type": "code",
   "execution_count": 40,
   "id": "24fb4ebe",
   "metadata": {},
   "outputs": [
    {
     "name": "stdout",
     "output_type": "stream",
     "text": [
      "p-значение для сравнения групп A1+A2 и B события `OffersScreenAppear`: 0.36\n",
      "\tНе получилось отвергнуть нулевую гипотезу, нет оснований считать доли разными.\n",
      "\n",
      "p-значение для сравнения групп A1+A2 и B события `CartScreenAppear`: 0.159\n",
      "\tНе получилось отвергнуть нулевую гипотезу, нет оснований считать доли разными.\n",
      "\n",
      "p-значение для сравнения групп A1+A2 и B события `PaymentScreenSuccessful`: 0.465\n",
      "\tНе получилось отвергнуть нулевую гипотезу, нет оснований считать доли разными.\n",
      "\n"
     ]
    }
   ],
   "source": [
    "for i in ratio_table.index:\n",
    "    if i not in ['MainScreenAppear']:\n",
    "        z_test(ratio_table, ['A1+A2', 'B'], i)"
   ]
  },
  {
   "cell_type": "markdown",
   "id": "d46d3514",
   "metadata": {},
   "source": [
    "Мы смогли показать, что по очищенным данным статистической разницы между тремя группами эксперимента у нас нет."
   ]
  },
  {
   "cell_type": "markdown",
   "id": "800b7b02",
   "metadata": {},
   "source": [
    "#### Проверка гипотез с учетом поправки Бонферрони"
   ]
  },
  {
   "cell_type": "markdown",
   "id": "961ed0ba",
   "metadata": {},
   "source": [
    "Выше мы смотрели на статистические различия между нашими группами, приняв уровень значимости за `alpha=0.05`. Всего мы проверили 12 гипотез, высока вероятность получить ложноположительной результат. Для того, чтобы снизить эту вероятность уменьшим уровень статистической значимости согласно методу Бонферрони. Выполним более верные расчеты."
   ]
  },
  {
   "cell_type": "code",
   "execution_count": 41,
   "id": "bf0ab549",
   "metadata": {},
   "outputs": [],
   "source": [
    "bonferroni_alpha = 0.05 / 9"
   ]
  },
  {
   "cell_type": "code",
   "execution_count": 42,
   "id": "bb1b104a",
   "metadata": {},
   "outputs": [
    {
     "name": "stdout",
     "output_type": "stream",
     "text": [
      "p-значение для сравнения групп A1 и B события `OffersScreenAppear`: 0.188\n",
      "\tНе получилось отвергнуть нулевую гипотезу, нет оснований считать доли разными.\n",
      "\n",
      "p-значение для сравнения групп A2 и B события `OffersScreenAppear`: 0.787\n",
      "\tНе получилось отвергнуть нулевую гипотезу, нет оснований считать доли разными.\n",
      "\n",
      "p-значение для сравнения групп A1+A2 и B события `OffersScreenAppear`: 0.36\n",
      "\tНе получилось отвергнуть нулевую гипотезу, нет оснований считать доли разными.\n",
      "\n",
      "p-значение для сравнения групп A1 и B события `CartScreenAppear`: 0.059\n",
      "\tНе получилось отвергнуть нулевую гипотезу, нет оснований считать доли разными.\n",
      "\n",
      "p-значение для сравнения групп A2 и B события `CartScreenAppear`: 0.577\n",
      "\tНе получилось отвергнуть нулевую гипотезу, нет оснований считать доли разными.\n",
      "\n",
      "p-значение для сравнения групп A1+A2 и B события `CartScreenAppear`: 0.159\n",
      "\tНе получилось отвергнуть нулевую гипотезу, нет оснований считать доли разными.\n",
      "\n",
      "p-значение для сравнения групп A1 и B события `PaymentScreenSuccessful`: 0.176\n",
      "\tНе получилось отвергнуть нулевую гипотезу, нет оснований считать доли разными.\n",
      "\n",
      "p-значение для сравнения групп A2 и B события `PaymentScreenSuccessful`: 0.934\n",
      "\tНе получилось отвергнуть нулевую гипотезу, нет оснований считать доли разными.\n",
      "\n",
      "p-значение для сравнения групп A1+A2 и B события `PaymentScreenSuccessful`: 0.465\n",
      "\tНе получилось отвергнуть нулевую гипотезу, нет оснований считать доли разными.\n",
      "\n"
     ]
    }
   ],
   "source": [
    "for i in ratio_table.index:\n",
    "    if i not in ['MainScreenAppear']:\n",
    "        for j in ['A1', 'A2', 'A1+A2']:\n",
    "            z_test(ratio_table, [j, 'B'], i, 0.05)"
   ]
  },
  {
   "cell_type": "markdown",
   "id": "1fd3b6ce",
   "metadata": {},
   "source": [
    "Как и следовало ожидать, при уменьшении уровня значимости результат не изменился. Ни в одном сравнении наших трех групп мы не можем отбросить нашу нулевую гипотезу. Т.е. получаем, что различия между тремя группам эксперимента нет."
   ]
  },
  {
   "cell_type": "markdown",
   "id": "871a812e",
   "metadata": {},
   "source": [
    "### Вывод"
   ]
  },
  {
   "cell_type": "markdown",
   "id": "759799a7",
   "metadata": {},
   "source": [
    "В это части мы проанализировали события пользователей в группах нашего A/A/B эксперимента и сравнили доли разных событий относительно изначального для каждой из групп. Мы воспользовались z-тестом для разности двух долей в разных экспериментах.\n",
    "\n",
    "Мы получили, что разницы в пропорциях разных событий между тремя группами нет. При этом, мы также улучшили расчет, использовав поправку Бонферрони для расчета более верного уровня значимости, т.к. мы сравнимаем несколько групп теста."
   ]
  },
  {
   "cell_type": "markdown",
   "id": "6d5d35ee",
   "metadata": {},
   "source": [
    "## Общий вывод"
   ]
  },
  {
   "cell_type": "markdown",
   "id": "ac8f355b",
   "metadata": {},
   "source": [
    "В этом проекте мы изучили лог событий пользователей мобильного приложения в период с 2019-07-25 по 2019-08-07. В эти даты был выполнен A/A/B тест, в которым мы изучали целесообразность использования новых шрифтов в приложении.\n",
    "\n",
    "Мы обработали данные, исключив из них дни, в которых событий было недостаточно. Также мы изучили наш набор событий и их воронку, после чего исключили из него событие `Tutorial`, которые не участвует в обычной схеме движения пользователя от главного экрана до покупки. В том числе, мы убрали из лога тех пользователей, которые предположительно попадали на страницу заказа или корзины без показа главного экрана. Мы решили, что такие пользователи могут послужить искажению результата.\n",
    "\n",
    "В финале, проанализировав сам эксперимент и сформулировав гипотезы, мы сделали расчет статистической значимости между долями разных событий у разных групп эксперимента. Ни в одном сравнении наш тест не показал различия между группами.\n",
    "\n",
    "То есть мы можем сказать, что введение новых шрифтов в приложении никак не повлияет на увеличение конверсии пользователей.\n",
    "\n",
    "Рекомендации: в исследовании мы показали, что больше всего пользователей теряется на этапе перехода от главного экрана к странице заказа - стоит обратить на это внимание, возможно что-то не так с дизайном или работой главного экрана нашего приложения."
   ]
  }
 ],
 "metadata": {
  "ExecuteTimeLog": [
   {
    "duration": 1390,
    "start_time": "2022-08-24T09:51:21.743Z"
   },
   {
    "duration": 486,
    "start_time": "2022-08-24T09:51:23.135Z"
   },
   {
    "duration": 4,
    "start_time": "2022-08-24T09:51:23.623Z"
   },
   {
    "duration": 6,
    "start_time": "2022-08-24T09:51:23.629Z"
   },
   {
    "duration": 9,
    "start_time": "2022-08-24T09:51:23.637Z"
   },
   {
    "duration": 1277,
    "start_time": "2022-08-24T09:51:23.647Z"
   },
   {
    "duration": 6,
    "start_time": "2022-08-24T09:51:24.926Z"
   },
   {
    "duration": 62,
    "start_time": "2022-08-24T09:51:24.933Z"
   },
   {
    "duration": 42,
    "start_time": "2022-08-24T09:51:24.996Z"
   },
   {
    "duration": 9,
    "start_time": "2022-08-24T09:51:25.039Z"
   },
   {
    "duration": 9,
    "start_time": "2022-08-24T09:51:25.049Z"
   },
   {
    "duration": 127,
    "start_time": "2022-08-24T09:51:25.060Z"
   },
   {
    "duration": 18,
    "start_time": "2022-08-24T09:51:25.189Z"
   },
   {
    "duration": 5,
    "start_time": "2022-08-24T09:51:25.210Z"
   },
   {
    "duration": 53,
    "start_time": "2022-08-24T09:51:25.216Z"
   },
   {
    "duration": 400,
    "start_time": "2022-08-24T09:51:25.284Z"
   },
   {
    "duration": 5902,
    "start_time": "2022-08-24T09:51:25.686Z"
   },
   {
    "duration": 106,
    "start_time": "2022-08-24T09:51:31.591Z"
   },
   {
    "duration": 991,
    "start_time": "2022-08-24T09:51:31.699Z"
   },
   {
    "duration": 13,
    "start_time": "2022-08-24T09:51:32.692Z"
   },
   {
    "duration": 110,
    "start_time": "2022-08-24T09:51:32.706Z"
   },
   {
    "duration": 22,
    "start_time": "2022-08-24T09:51:32.818Z"
   },
   {
    "duration": 55,
    "start_time": "2022-08-24T09:51:32.841Z"
   },
   {
    "duration": 62,
    "start_time": "2022-08-24T09:51:32.897Z"
   },
   {
    "duration": 4,
    "start_time": "2022-08-24T09:51:32.961Z"
   },
   {
    "duration": 642,
    "start_time": "2022-08-24T09:51:32.967Z"
   },
   {
    "duration": 17,
    "start_time": "2022-08-24T09:51:33.610Z"
   },
   {
    "duration": 77,
    "start_time": "2022-08-24T09:51:33.629Z"
   },
   {
    "duration": 37,
    "start_time": "2022-08-24T09:51:33.708Z"
   },
   {
    "duration": 23,
    "start_time": "2022-08-24T09:51:33.747Z"
   },
   {
    "duration": 64,
    "start_time": "2022-08-24T09:51:33.771Z"
   },
   {
    "duration": 22,
    "start_time": "2022-08-24T09:51:33.837Z"
   },
   {
    "duration": 26,
    "start_time": "2022-08-24T09:51:33.861Z"
   },
   {
    "duration": 6,
    "start_time": "2022-08-24T09:51:33.889Z"
   },
   {
    "duration": 11,
    "start_time": "2022-08-24T09:51:33.897Z"
   },
   {
    "duration": 19,
    "start_time": "2022-08-24T09:51:33.911Z"
   },
   {
    "duration": 25,
    "start_time": "2022-08-24T09:51:33.932Z"
   },
   {
    "duration": 31,
    "start_time": "2022-08-24T09:51:33.959Z"
   },
   {
    "duration": 25,
    "start_time": "2022-08-24T09:51:33.992Z"
   },
   {
    "duration": 28,
    "start_time": "2022-08-24T09:51:34.019Z"
   }
  ],
  "hide_input": false,
  "kernelspec": {
   "display_name": "Python 3 (ipykernel)",
   "language": "python",
   "name": "python3"
  },
  "language_info": {
   "codemirror_mode": {
    "name": "ipython",
    "version": 3
   },
   "file_extension": ".py",
   "mimetype": "text/x-python",
   "name": "python",
   "nbconvert_exporter": "python",
   "pygments_lexer": "ipython3",
   "version": "3.9.12"
  },
  "toc": {
   "base_numbering": 1,
   "nav_menu": {},
   "number_sections": true,
   "sideBar": true,
   "skip_h1_title": true,
   "title_cell": "Содержание",
   "title_sidebar": "Contents",
   "toc_cell": false,
   "toc_position": {
    "height": "calc(100% - 180px)",
    "left": "10px",
    "top": "150px",
    "width": "321px"
   },
   "toc_section_display": true,
   "toc_window_display": true
  },
  "varInspector": {
   "cols": {
    "lenName": 16,
    "lenType": 16,
    "lenVar": 40
   },
   "kernels_config": {
    "python": {
     "delete_cmd_postfix": "",
     "delete_cmd_prefix": "del ",
     "library": "var_list.py",
     "varRefreshCmd": "print(var_dic_list())"
    },
    "r": {
     "delete_cmd_postfix": ") ",
     "delete_cmd_prefix": "rm(",
     "library": "var_list.r",
     "varRefreshCmd": "cat(var_dic_list()) "
    }
   },
   "types_to_exclude": [
    "module",
    "function",
    "builtin_function_or_method",
    "instance",
    "_Feature"
   ],
   "window_display": false
  }
 },
 "nbformat": 4,
 "nbformat_minor": 5
}
